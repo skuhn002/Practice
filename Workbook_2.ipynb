{
 "cells": [
  {
   "cell_type": "markdown",
   "id": "d1ec6fcb",
   "metadata": {},
   "source": [
    "# Python API Requests"
   ]
  },
  {
   "cell_type": "code",
   "execution_count": 1,
   "id": "a85fd9dc",
   "metadata": {},
   "outputs": [],
   "source": [
    "import requests"
   ]
  },
  {
   "cell_type": "code",
   "execution_count": 10,
   "id": "059f720e",
   "metadata": {},
   "outputs": [],
   "source": [
    "# Run a Get API Request to an API which shares the current conversion rates of bitcoin to major currencies\n",
    "r = requests.get('https://api.coindesk.com/v1/bpi/currentprice.json')"
   ]
  },
  {
   "cell_type": "code",
   "execution_count": 11,
   "id": "d7e8df42",
   "metadata": {},
   "outputs": [
    {
     "data": {
      "text/plain": [
       "{'time': {'updated': 'Aug 22, 2023 23:49:00 UTC',\n",
       "  'updatedISO': '2023-08-22T23:49:00+00:00',\n",
       "  'updateduk': 'Aug 23, 2023 at 00:49 BST'},\n",
       " 'disclaimer': 'This data was produced from the CoinDesk Bitcoin Price Index (USD). Non-USD currency data converted using hourly conversion rate from openexchangerates.org',\n",
       " 'chartName': 'Bitcoin',\n",
       " 'bpi': {'USD': {'code': 'USD',\n",
       "   'symbol': '&#36;',\n",
       "   'rate': '25,987.3805',\n",
       "   'description': 'United States Dollar',\n",
       "   'rate_float': 25987.3805},\n",
       "  'GBP': {'code': 'GBP',\n",
       "   'symbol': '&pound;',\n",
       "   'rate': '21,714.8473',\n",
       "   'description': 'British Pound Sterling',\n",
       "   'rate_float': 21714.8473},\n",
       "  'EUR': {'code': 'EUR',\n",
       "   'symbol': '&euro;',\n",
       "   'rate': '25,315.5028',\n",
       "   'description': 'Euro',\n",
       "   'rate_float': 25315.5028}}}"
      ]
     },
     "execution_count": 11,
     "metadata": {},
     "output_type": "execute_result"
    }
   ],
   "source": [
    "r.json()"
   ]
  }
 ],
 "metadata": {
  "kernelspec": {
   "display_name": "Python 3 (ipykernel)",
   "language": "python",
   "name": "python3"
  },
  "language_info": {
   "codemirror_mode": {
    "name": "ipython",
    "version": 3
   },
   "file_extension": ".py",
   "mimetype": "text/x-python",
   "name": "python",
   "nbconvert_exporter": "python",
   "pygments_lexer": "ipython3",
   "version": "3.11.4"
  }
 },
 "nbformat": 4,
 "nbformat_minor": 5
}
