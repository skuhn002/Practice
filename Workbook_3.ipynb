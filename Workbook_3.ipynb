{
 "cells": [
  {
   "cell_type": "markdown",
   "id": "c02a6c5b",
   "metadata": {},
   "source": [
    "# Working with Camera\n",
    "opencv-python"
   ]
  },
  {
   "cell_type": "code",
   "execution_count": 1,
   "id": "e3107321",
   "metadata": {},
   "outputs": [],
   "source": [
    "import cv2\n",
    "import numpy as np"
   ]
  },
  {
   "cell_type": "code",
   "execution_count": 2,
   "id": "6541506a",
   "metadata": {},
   "outputs": [],
   "source": [
    "# Open a connection to the camera (camera index 0 by default)\n",
    "cap = cv2.VideoCapture(0)\n",
    "\n",
    "# Check if the camera opened successfully\n",
    "if not cap.isOpened():\n",
    "    print(\"Error: Could not open camera.\")\n",
    "    exit()\n",
    "\n",
    "# Capture a frame from the camera\n",
    "ret, frame = cap.read()\n",
    "\n",
    "# Check if the frame was captured successfully\n",
    "if not ret:\n",
    "    print(\"Error: Could not capture frame.\")\n",
    "    exit()\n",
    "\n",
    "# Change a specific pixel\n",
    "row = 100\n",
    "col = 150\n",
    "frame[row, col] = (0, 0, 255)\n",
    "\n",
    "# Display the modified frame\n",
    "cv2.imshow(\"Modified Image\", frame)\n",
    "\n",
    "# Wait for a key press and then close the window\n",
    "cv2.waitKey(0)\n",
    "cv2.destroyAllWindows()\n",
    "\n",
    "# Release the camera\n",
    "cap.release()"
   ]
  }
 ],
 "metadata": {
  "kernelspec": {
   "display_name": "Python 3 (ipykernel)",
   "language": "python",
   "name": "python3"
  },
  "language_info": {
   "codemirror_mode": {
    "name": "ipython",
    "version": 3
   },
   "file_extension": ".py",
   "mimetype": "text/x-python",
   "name": "python",
   "nbconvert_exporter": "python",
   "pygments_lexer": "ipython3",
   "version": "3.11.4"
  }
 },
 "nbformat": 4,
 "nbformat_minor": 5
}
