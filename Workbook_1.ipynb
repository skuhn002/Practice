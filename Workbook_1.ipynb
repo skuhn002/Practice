{
 "cells": [
  {
   "cell_type": "markdown",
   "id": "3b2afae0",
   "metadata": {},
   "source": [
    "# Working with Variables with Multiple Contents"
   ]
  },
  {
   "cell_type": "code",
   "execution_count": 19,
   "id": "cb2f4835",
   "metadata": {},
   "outputs": [],
   "source": [
    "# objects\n",
    "\n",
    "class myObject:\n",
    "    def __init__(self):\n",
    "        self.color = 'blue'\n",
    "        self.name = 'Yolanda'\n",
    "        \n",
    "    def go(self):\n",
    "        print('Vroooooooom')\n",
    "\n",
    "a = myObject()"
   ]
  },
  {
   "cell_type": "code",
   "execution_count": 17,
   "id": "3d6239c4",
   "metadata": {},
   "outputs": [
    {
     "name": "stdout",
     "output_type": "stream",
     "text": [
      "Color: blue\n",
      "Name: Yolanda\n"
     ]
    }
   ],
   "source": [
    "print(\"Color: \" + a.color)\n",
    "print(\"Name: \" + a.name)"
   ]
  },
  {
   "cell_type": "code",
   "execution_count": 20,
   "id": "7c8810b7",
   "metadata": {},
   "outputs": [
    {
     "name": "stdout",
     "output_type": "stream",
     "text": [
      "Vroooooooom\n"
     ]
    }
   ],
   "source": [
    "a.go()"
   ]
  }
 ],
 "metadata": {
  "kernelspec": {
   "display_name": "Python 3 (ipykernel)",
   "language": "python",
   "name": "python3"
  },
  "language_info": {
   "codemirror_mode": {
    "name": "ipython",
    "version": 3
   },
   "file_extension": ".py",
   "mimetype": "text/x-python",
   "name": "python",
   "nbconvert_exporter": "python",
   "pygments_lexer": "ipython3",
   "version": "3.11.4"
  }
 },
 "nbformat": 4,
 "nbformat_minor": 5
}
