{
 "cells": [
  {
   "cell_type": "markdown",
   "id": "fe022585",
   "metadata": {},
   "source": [
    "# Variables with Multiple Contents"
   ]
  },
  {
   "cell_type": "markdown",
   "id": "a2370e1b",
   "metadata": {},
   "source": [
    "### Objects"
   ]
  },
  {
   "cell_type": "code",
   "execution_count": 19,
   "id": "04be45fe",
   "metadata": {},
   "outputs": [],
   "source": [
    "class myObject:\n",
    "    def __init__(self):\n",
    "        self.color = 'blue'\n",
    "        self.name = 'Yolanda'\n",
    "        \n",
    "    def go(self):\n",
    "        print('Vroooooooom')\n",
    "\n",
    "a = myObject()"
   ]
  },
  {
   "cell_type": "code",
   "execution_count": 17,
   "id": "b8839f4b",
   "metadata": {},
   "outputs": [
    {
     "name": "stdout",
     "output_type": "stream",
     "text": [
      "Color: blue\n",
      "Name: Yolanda\n"
     ]
    }
   ],
   "source": [
    "print(\"Color: \" + a.color)\n",
    "print(\"Name: \" + a.name)"
   ]
  },
  {
   "cell_type": "code",
   "execution_count": 20,
   "id": "a04c7921",
   "metadata": {},
   "outputs": [
    {
     "name": "stdout",
     "output_type": "stream",
     "text": [
      "Vroooooooom\n"
     ]
    }
   ],
   "source": [
    "a.go()"
   ]
  },
  {
   "cell_type": "markdown",
   "id": "3e7bafc0",
   "metadata": {},
   "source": [
    "### Pandas Dataframes"
   ]
  },
  {
   "cell_type": "code",
   "execution_count": 27,
   "id": "7f005151",
   "metadata": {},
   "outputs": [],
   "source": [
    "from pandas import DataFrame as df\n",
    "import numpy"
   ]
  },
  {
   "cell_type": "code",
   "execution_count": 30,
   "id": "5e092915",
   "metadata": {},
   "outputs": [
    {
     "data": {
      "text/html": [
       "<div>\n",
       "<style scoped>\n",
       "    .dataframe tbody tr th:only-of-type {\n",
       "        vertical-align: middle;\n",
       "    }\n",
       "\n",
       "    .dataframe tbody tr th {\n",
       "        vertical-align: top;\n",
       "    }\n",
       "\n",
       "    .dataframe thead th {\n",
       "        text-align: right;\n",
       "    }\n",
       "</style>\n",
       "<table border=\"1\" class=\"dataframe\">\n",
       "  <thead>\n",
       "    <tr style=\"text-align: right;\">\n",
       "      <th></th>\n",
       "      <th>Temperature</th>\n",
       "      <th>Humidity</th>\n",
       "    </tr>\n",
       "  </thead>\n",
       "  <tbody>\n",
       "    <tr>\n",
       "      <th>0</th>\n",
       "      <td>78</td>\n",
       "      <td>0.88</td>\n",
       "    </tr>\n",
       "    <tr>\n",
       "      <th>1</th>\n",
       "      <td>88</td>\n",
       "      <td>0.56</td>\n",
       "    </tr>\n",
       "    <tr>\n",
       "      <th>2</th>\n",
       "      <td>81</td>\n",
       "      <td>0.23</td>\n",
       "    </tr>\n",
       "  </tbody>\n",
       "</table>\n",
       "</div>"
      ],
      "text/plain": [
       "   Temperature  Humidity\n",
       "0           78      0.88\n",
       "1           88      0.56\n",
       "2           81      0.23"
      ]
     },
     "execution_count": 30,
     "metadata": {},
     "output_type": "execute_result"
    }
   ],
   "source": [
    "data = {\n",
    "    \"Temperature\": [78, 88, 81],\n",
    "    \"Humidity\": [.88, .56, .23]\n",
    "}\n",
    "\n",
    "df(data)"
   ]
  }
 ],
 "metadata": {
  "kernelspec": {
   "display_name": "Python 3 (ipykernel)",
   "language": "python",
   "name": "python3"
  },
  "language_info": {
   "codemirror_mode": {
    "name": "ipython",
    "version": 3
   },
   "file_extension": ".py",
   "mimetype": "text/x-python",
   "name": "python",
   "nbconvert_exporter": "python",
   "pygments_lexer": "ipython3",
   "version": "3.11.4"
  }
 },
 "nbformat": 4,
 "nbformat_minor": 5
}
